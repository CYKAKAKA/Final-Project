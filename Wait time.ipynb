{
 "cells": [
  {
   "cell_type": "code",
   "execution_count": 1,
   "metadata": {},
   "outputs": [],
   "source": [
    "import numpy as np"
   ]
  },
  {
   "cell_type": "code",
   "execution_count": 2,
   "metadata": {},
   "outputs": [],
   "source": [
    "def prep_time(order_size):\n",
    "    \"\"\"\n",
    "    Return the preparation time for the order based on its size\n",
    "    :param size: size for the order\n",
    "    :return: preparation time\n",
    "    \"\"\"\n",
    "    prep_time = np.random.uniform(0,10,size=100)\n",
    "    if order_size == \"S\":\n",
    "        return prep_time\n",
    "    elif order_size == \"M\":\n",
    "        return prep_time*1.5\n",
    "    else:\n",
    "        return prep_time*2"
   ]
  },
  {
   "cell_type": "code",
   "execution_count": 7,
   "metadata": {},
   "outputs": [],
   "source": [
    "def deliver_wait_time():\n",
    "    \"\"\"\n",
    "    Return the wait time of the deliver man for this specific order\n",
    "    :param: none \n",
    "    :return: wait time\n",
    "    \"\"\"\n",
    "    wait_time=0\n",
    "# When the order arrives, the total orders in the queue,maximum 10\n",
    "    queue_count=np.random.randint(0,11)\n",
    "    order_size=['S','M','L']\n",
    "    for i in range(queue_count+1):\n",
    "        order_num=np.random.randint(0,3)\n",
    "        preperation_time=prep_time(order_size[order_num])\n",
    "        number=np.random.randint(0,len(preperation_time))\n",
    "        wait_time+=preperation_time[number]\n",
    "    return wait_time"
   ]
  },
  {
   "cell_type": "code",
   "execution_count": 12,
   "metadata": {},
   "outputs": [
    {
     "data": {
      "text/plain": [
       "50.85415198621107"
      ]
     },
     "execution_count": 12,
     "metadata": {},
     "output_type": "execute_result"
    }
   ],
   "source": [
    "deliver_wait_time()"
   ]
  },
  {
   "cell_type": "code",
   "execution_count": null,
   "metadata": {},
   "outputs": [],
   "source": []
  }
 ],
 "metadata": {
  "kernelspec": {
   "display_name": "Python 3",
   "language": "python",
   "name": "python3"
  },
  "language_info": {
   "codemirror_mode": {
    "name": "ipython",
    "version": 3
   },
   "file_extension": ".py",
   "mimetype": "text/x-python",
   "name": "python",
   "nbconvert_exporter": "python",
   "pygments_lexer": "ipython3",
   "version": "3.6.5"
  }
 },
 "nbformat": 4,
 "nbformat_minor": 2
}
