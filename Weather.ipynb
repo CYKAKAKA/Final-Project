{
 "cells": [
  {
   "cell_type": "code",
   "execution_count": 42,
   "metadata": {},
   "outputs": [],
   "source": [
    "import pandas as pd"
   ]
  },
  {
   "cell_type": "markdown",
   "metadata": {},
   "source": [
    "# source:\n",
    "https://www.isws.illinois.edu/statecli/urbana/urbana-monthly-2017.htm\n",
    "* Precipitation and snowfall are measured at 8 am and represent the previous 24 hours, T means a trace of precipitation\t"
   ]
  },
  {
   "cell_type": "code",
   "execution_count": 43,
   "metadata": {},
   "outputs": [],
   "source": [
    "weather = pd.read_csv('champaign weather.csv')"
   ]
  },
  {
   "cell_type": "code",
   "execution_count": 44,
   "metadata": {},
   "outputs": [
    {
     "data": {
      "text/html": [
       "<div>\n",
       "<style scoped>\n",
       "    .dataframe tbody tr th:only-of-type {\n",
       "        vertical-align: middle;\n",
       "    }\n",
       "\n",
       "    .dataframe tbody tr th {\n",
       "        vertical-align: top;\n",
       "    }\n",
       "\n",
       "    .dataframe thead th {\n",
       "        text-align: right;\n",
       "    }\n",
       "</style>\n",
       "<table border=\"1\" class=\"dataframe\">\n",
       "  <thead>\n",
       "    <tr style=\"text-align: right;\">\n",
       "      <th></th>\n",
       "      <th>Day</th>\n",
       "      <th>High</th>\n",
       "      <th>Time (CST)</th>\n",
       "      <th>Low</th>\n",
       "      <th>Time (CST).1</th>\n",
       "      <th>Mean</th>\n",
       "      <th>Depart</th>\n",
       "      <th>Heating</th>\n",
       "      <th>Cooling</th>\n",
       "      <th>Precipitation</th>\n",
       "      <th>Snowfall</th>\n",
       "      <th>Snow Depth</th>\n",
       "      <th>4 inch</th>\n",
       "      <th>8 inch</th>\n",
       "      <th>Morning Low</th>\n",
       "      <th>Comments</th>\n",
       "    </tr>\n",
       "  </thead>\n",
       "  <tbody>\n",
       "    <tr>\n",
       "      <th>0</th>\n",
       "      <td>1</td>\n",
       "      <td>43</td>\n",
       "      <td>1:20 PM</td>\n",
       "      <td>19</td>\n",
       "      <td>5:02 AM</td>\n",
       "      <td>31</td>\n",
       "      <td>5</td>\n",
       "      <td>34</td>\n",
       "      <td>0</td>\n",
       "      <td>0</td>\n",
       "      <td>0</td>\n",
       "      <td>0</td>\n",
       "      <td>35.0</td>\n",
       "      <td>38.0</td>\n",
       "      <td>19.0</td>\n",
       "      <td>NaN</td>\n",
       "    </tr>\n",
       "    <tr>\n",
       "      <th>1</th>\n",
       "      <td>2</td>\n",
       "      <td>47</td>\n",
       "      <td>2:58 PM</td>\n",
       "      <td>33</td>\n",
       "      <td>12:00 AM</td>\n",
       "      <td>40</td>\n",
       "      <td>15</td>\n",
       "      <td>25</td>\n",
       "      <td>0</td>\n",
       "      <td>T</td>\n",
       "      <td>0</td>\n",
       "      <td>0</td>\n",
       "      <td>37.0</td>\n",
       "      <td>38.0</td>\n",
       "      <td>33.0</td>\n",
       "      <td>fog, rain</td>\n",
       "    </tr>\n",
       "    <tr>\n",
       "      <th>2</th>\n",
       "      <td>3</td>\n",
       "      <td>45</td>\n",
       "      <td>1:08 AM</td>\n",
       "      <td>21</td>\n",
       "      <td>11:58 PM</td>\n",
       "      <td>33</td>\n",
       "      <td>8</td>\n",
       "      <td>32</td>\n",
       "      <td>0</td>\n",
       "      <td>0.14</td>\n",
       "      <td>0</td>\n",
       "      <td>0</td>\n",
       "      <td>41.0</td>\n",
       "      <td>41.0</td>\n",
       "      <td>42.0</td>\n",
       "      <td>fog, rain</td>\n",
       "    </tr>\n",
       "    <tr>\n",
       "      <th>3</th>\n",
       "      <td>4</td>\n",
       "      <td>22</td>\n",
       "      <td>1:37 PM</td>\n",
       "      <td>13</td>\n",
       "      <td>7:34 AM</td>\n",
       "      <td>18</td>\n",
       "      <td>-7</td>\n",
       "      <td>47</td>\n",
       "      <td>0</td>\n",
       "      <td>0.11</td>\n",
       "      <td>0</td>\n",
       "      <td>0</td>\n",
       "      <td>37.0</td>\n",
       "      <td>39.0</td>\n",
       "      <td>13.0</td>\n",
       "      <td>fog, rain</td>\n",
       "    </tr>\n",
       "    <tr>\n",
       "      <th>4</th>\n",
       "      <td>5</td>\n",
       "      <td>15</td>\n",
       "      <td>12:00 AM</td>\n",
       "      <td>7</td>\n",
       "      <td>11:59 PM</td>\n",
       "      <td>11</td>\n",
       "      <td>-14</td>\n",
       "      <td>54</td>\n",
       "      <td>0</td>\n",
       "      <td>0.04</td>\n",
       "      <td>0.6</td>\n",
       "      <td>1</td>\n",
       "      <td>35.0</td>\n",
       "      <td>37.0</td>\n",
       "      <td>9.0</td>\n",
       "      <td>snow</td>\n",
       "    </tr>\n",
       "  </tbody>\n",
       "</table>\n",
       "</div>"
      ],
      "text/plain": [
       "   Day  High Time (CST)  Low Time (CST).1  Mean  Depart  Heating  Cooling  \\\n",
       "0    1    43    1:20 PM   19      5:02 AM    31       5       34        0   \n",
       "1    2    47    2:58 PM   33     12:00 AM    40      15       25        0   \n",
       "2    3    45    1:08 AM   21     11:58 PM    33       8       32        0   \n",
       "3    4    22    1:37 PM   13      7:34 AM    18      -7       47        0   \n",
       "4    5    15   12:00 AM    7     11:59 PM    11     -14       54        0   \n",
       "\n",
       "  Precipitation Snowfall Snow Depth  4 inch  8 inch  Morning Low   Comments  \n",
       "0             0        0          0    35.0    38.0         19.0        NaN  \n",
       "1             T        0          0    37.0    38.0         33.0  fog, rain  \n",
       "2          0.14        0          0    41.0    41.0         42.0  fog, rain  \n",
       "3          0.11        0          0    37.0    39.0         13.0  fog, rain  \n",
       "4          0.04      0.6          1    35.0    37.0          9.0       snow  "
      ]
     },
     "execution_count": 44,
     "metadata": {},
     "output_type": "execute_result"
    }
   ],
   "source": [
    "weather.head()"
   ]
  },
  {
   "cell_type": "markdown",
   "metadata": {},
   "source": [
    "# principles\n",
    "* mean<=14 cold\n",
    "* mean>=95 hot\n",
    "* precipitation=T light rain\n",
    "* 0<precipitaion<0.25 moderate rain\n",
    "* precipitation >=0.25 heavy rain\n",
    "* snowfall=T light snow\n",
    "* snowfall<1 moderate snow\n",
    "* snowfall>=1 heavy snow\n",
    "* other sunny or cloudy(no influence)"
   ]
  },
  {
   "cell_type": "code",
   "execution_count": 45,
   "metadata": {},
   "outputs": [],
   "source": [
    "weather_extract=weather[['Mean','Precipitation','Snowfall']]"
   ]
  },
  {
   "cell_type": "code",
   "execution_count": 46,
   "metadata": {},
   "outputs": [
    {
     "data": {
      "text/html": [
       "<div>\n",
       "<style scoped>\n",
       "    .dataframe tbody tr th:only-of-type {\n",
       "        vertical-align: middle;\n",
       "    }\n",
       "\n",
       "    .dataframe tbody tr th {\n",
       "        vertical-align: top;\n",
       "    }\n",
       "\n",
       "    .dataframe thead th {\n",
       "        text-align: right;\n",
       "    }\n",
       "</style>\n",
       "<table border=\"1\" class=\"dataframe\">\n",
       "  <thead>\n",
       "    <tr style=\"text-align: right;\">\n",
       "      <th></th>\n",
       "      <th>Mean</th>\n",
       "      <th>Precipitation</th>\n",
       "      <th>Snowfall</th>\n",
       "    </tr>\n",
       "  </thead>\n",
       "  <tbody>\n",
       "    <tr>\n",
       "      <th>0</th>\n",
       "      <td>31</td>\n",
       "      <td>0</td>\n",
       "      <td>0</td>\n",
       "    </tr>\n",
       "    <tr>\n",
       "      <th>1</th>\n",
       "      <td>40</td>\n",
       "      <td>T</td>\n",
       "      <td>0</td>\n",
       "    </tr>\n",
       "    <tr>\n",
       "      <th>2</th>\n",
       "      <td>33</td>\n",
       "      <td>0.14</td>\n",
       "      <td>0</td>\n",
       "    </tr>\n",
       "    <tr>\n",
       "      <th>3</th>\n",
       "      <td>18</td>\n",
       "      <td>0.11</td>\n",
       "      <td>0</td>\n",
       "    </tr>\n",
       "    <tr>\n",
       "      <th>4</th>\n",
       "      <td>11</td>\n",
       "      <td>0.04</td>\n",
       "      <td>0.6</td>\n",
       "    </tr>\n",
       "  </tbody>\n",
       "</table>\n",
       "</div>"
      ],
      "text/plain": [
       "   Mean Precipitation Snowfall\n",
       "0    31             0        0\n",
       "1    40             T        0\n",
       "2    33          0.14        0\n",
       "3    18          0.11        0\n",
       "4    11          0.04      0.6"
      ]
     },
     "execution_count": 46,
     "metadata": {},
     "output_type": "execute_result"
    }
   ],
   "source": [
    "weather_extract.head()"
   ]
  },
  {
   "cell_type": "code",
   "execution_count": 47,
   "metadata": {},
   "outputs": [
    {
     "data": {
      "text/plain": [
       "Mean              int64\n",
       "Precipitation    object\n",
       "Snowfall         object\n",
       "dtype: object"
      ]
     },
     "execution_count": 47,
     "metadata": {},
     "output_type": "execute_result"
    }
   ],
   "source": [
    "weather_extract.dtypes"
   ]
  },
  {
   "cell_type": "code",
   "execution_count": 48,
   "metadata": {},
   "outputs": [],
   "source": [
    "def rain(x) -> str:\n",
    "    \"\"\"\n",
    "    Decide the rain level according to x\n",
    "    \n",
    "    :param x: the column which is based to calculate the rain level\n",
    "    :return: the rain level\n",
    "    \"\"\"\n",
    "    \n",
    "    if x == 'T':\n",
    "        return 'light rain'\n",
    "    else:\n",
    "        x= float(x)\n",
    "        if x<0.25 and x>0:\n",
    "            return 'moderate rain'\n",
    "        elif x>=0.25:\n",
    "            return 'heavy rain'\n",
    "        else:\n",
    "            return 'no influence'"
   ]
  },
  {
   "cell_type": "code",
   "execution_count": 49,
   "metadata": {},
   "outputs": [],
   "source": [
    "def snow(x) -> str:\n",
    "    \"\"\"\n",
    "    Decide the snow level according to x\n",
    "    \n",
    "    :param x: the column which is based to calculate the snow level\n",
    "    :return: the snow level\n",
    "    \"\"\"\n",
    "    \n",
    "    if x == 'T':\n",
    "        return 'light snow'\n",
    "    else:\n",
    "        x=float(x)\n",
    "        if x<1 and x>0:\n",
    "            return 'moderate snow'\n",
    "        elif x>=1:\n",
    "            return 'heavy snow'\n",
    "        else:\n",
    "            return 'no influence'"
   ]
  },
  {
   "cell_type": "code",
   "execution_count": 50,
   "metadata": {},
   "outputs": [],
   "source": [
    "def temperature(x) -> str:\n",
    "    \"\"\"\n",
    "    Decide the temperature influence according to x\n",
    "    \n",
    "    :param x: the column which is based to calculate the temperature influence\n",
    "    :return: the temperature influence\n",
    "    \"\"\"\n",
    "    \n",
    "    if x<=14:\n",
    "        return 'too cold'\n",
    "    elif x>=95:\n",
    "        return 'too hot'\n",
    "    else:\n",
    "        return 'no influence'"
   ]
  },
  {
   "cell_type": "code",
   "execution_count": 51,
   "metadata": {},
   "outputs": [
    {
     "name": "stderr",
     "output_type": "stream",
     "text": [
      "C:\\Anaconda3\\lib\\site-packages\\ipykernel_launcher.py:2: SettingWithCopyWarning: \n",
      "A value is trying to be set on a copy of a slice from a DataFrame.\n",
      "Try using .loc[row_indexer,col_indexer] = value instead\n",
      "\n",
      "See the caveats in the documentation: http://pandas.pydata.org/pandas-docs/stable/indexing.html#indexing-view-versus-copy\n",
      "  \n",
      "C:\\Anaconda3\\lib\\site-packages\\ipykernel_launcher.py:3: SettingWithCopyWarning: \n",
      "A value is trying to be set on a copy of a slice from a DataFrame.\n",
      "Try using .loc[row_indexer,col_indexer] = value instead\n",
      "\n",
      "See the caveats in the documentation: http://pandas.pydata.org/pandas-docs/stable/indexing.html#indexing-view-versus-copy\n",
      "  This is separate from the ipykernel package so we can avoid doing imports until\n",
      "C:\\Anaconda3\\lib\\site-packages\\ipykernel_launcher.py:4: SettingWithCopyWarning: \n",
      "A value is trying to be set on a copy of a slice from a DataFrame.\n",
      "Try using .loc[row_indexer,col_indexer] = value instead\n",
      "\n",
      "See the caveats in the documentation: http://pandas.pydata.org/pandas-docs/stable/indexing.html#indexing-view-versus-copy\n",
      "  after removing the cwd from sys.path.\n"
     ]
    }
   ],
   "source": [
    "# According to certain columns, calculate the influce of each weather\n",
    "weather_extract['rain']=weather_extract.Precipitation.apply(lambda x:rain(x))\n",
    "weather_extract['snow']=weather_extract.Snowfall.apply(lambda x:snow(x))\n",
    "weather_extract['temperature']=weather_extract.Mean.apply(lambda x:temperature(x))"
   ]
  },
  {
   "cell_type": "code",
   "execution_count": 52,
   "metadata": {},
   "outputs": [
    {
     "data": {
      "text/html": [
       "<div>\n",
       "<style scoped>\n",
       "    .dataframe tbody tr th:only-of-type {\n",
       "        vertical-align: middle;\n",
       "    }\n",
       "\n",
       "    .dataframe tbody tr th {\n",
       "        vertical-align: top;\n",
       "    }\n",
       "\n",
       "    .dataframe thead th {\n",
       "        text-align: right;\n",
       "    }\n",
       "</style>\n",
       "<table border=\"1\" class=\"dataframe\">\n",
       "  <thead>\n",
       "    <tr style=\"text-align: right;\">\n",
       "      <th></th>\n",
       "      <th>Mean</th>\n",
       "      <th>Precipitation</th>\n",
       "      <th>Snowfall</th>\n",
       "      <th>rain</th>\n",
       "      <th>snow</th>\n",
       "      <th>temperature</th>\n",
       "    </tr>\n",
       "  </thead>\n",
       "  <tbody>\n",
       "    <tr>\n",
       "      <th>0</th>\n",
       "      <td>31</td>\n",
       "      <td>0</td>\n",
       "      <td>0</td>\n",
       "      <td>no influence</td>\n",
       "      <td>no influence</td>\n",
       "      <td>no influence</td>\n",
       "    </tr>\n",
       "    <tr>\n",
       "      <th>1</th>\n",
       "      <td>40</td>\n",
       "      <td>T</td>\n",
       "      <td>0</td>\n",
       "      <td>light rain</td>\n",
       "      <td>no influence</td>\n",
       "      <td>no influence</td>\n",
       "    </tr>\n",
       "    <tr>\n",
       "      <th>2</th>\n",
       "      <td>33</td>\n",
       "      <td>0.14</td>\n",
       "      <td>0</td>\n",
       "      <td>moderate rain</td>\n",
       "      <td>no influence</td>\n",
       "      <td>no influence</td>\n",
       "    </tr>\n",
       "    <tr>\n",
       "      <th>3</th>\n",
       "      <td>18</td>\n",
       "      <td>0.11</td>\n",
       "      <td>0</td>\n",
       "      <td>moderate rain</td>\n",
       "      <td>no influence</td>\n",
       "      <td>no influence</td>\n",
       "    </tr>\n",
       "    <tr>\n",
       "      <th>4</th>\n",
       "      <td>11</td>\n",
       "      <td>0.04</td>\n",
       "      <td>0.6</td>\n",
       "      <td>moderate rain</td>\n",
       "      <td>moderate snow</td>\n",
       "      <td>too cold</td>\n",
       "    </tr>\n",
       "  </tbody>\n",
       "</table>\n",
       "</div>"
      ],
      "text/plain": [
       "   Mean Precipitation Snowfall           rain           snow   temperature\n",
       "0    31             0        0   no influence   no influence  no influence\n",
       "1    40             T        0     light rain   no influence  no influence\n",
       "2    33          0.14        0  moderate rain   no influence  no influence\n",
       "3    18          0.11        0  moderate rain   no influence  no influence\n",
       "4    11          0.04      0.6  moderate rain  moderate snow      too cold"
      ]
     },
     "execution_count": 52,
     "metadata": {},
     "output_type": "execute_result"
    }
   ],
   "source": [
    "weather_extract.head()"
   ]
  },
  {
   "cell_type": "code",
   "execution_count": 53,
   "metadata": {},
   "outputs": [],
   "source": [
    "rain=(weather_extract.groupby('rain').size()/weather_extract.shape[0]).reset_index()"
   ]
  },
  {
   "cell_type": "code",
   "execution_count": 54,
   "metadata": {},
   "outputs": [
    {
     "data": {
      "text/html": [
       "<div>\n",
       "<style scoped>\n",
       "    .dataframe tbody tr th:only-of-type {\n",
       "        vertical-align: middle;\n",
       "    }\n",
       "\n",
       "    .dataframe tbody tr th {\n",
       "        vertical-align: top;\n",
       "    }\n",
       "\n",
       "    .dataframe thead th {\n",
       "        text-align: right;\n",
       "    }\n",
       "</style>\n",
       "<table border=\"1\" class=\"dataframe\">\n",
       "  <thead>\n",
       "    <tr style=\"text-align: right;\">\n",
       "      <th></th>\n",
       "      <th>rain</th>\n",
       "      <th>0</th>\n",
       "    </tr>\n",
       "  </thead>\n",
       "  <tbody>\n",
       "    <tr>\n",
       "      <th>0</th>\n",
       "      <td>heavy rain</td>\n",
       "      <td>0.109589</td>\n",
       "    </tr>\n",
       "    <tr>\n",
       "      <th>1</th>\n",
       "      <td>light rain</td>\n",
       "      <td>0.112329</td>\n",
       "    </tr>\n",
       "    <tr>\n",
       "      <th>2</th>\n",
       "      <td>moderate rain</td>\n",
       "      <td>0.208219</td>\n",
       "    </tr>\n",
       "    <tr>\n",
       "      <th>3</th>\n",
       "      <td>no influence</td>\n",
       "      <td>0.569863</td>\n",
       "    </tr>\n",
       "  </tbody>\n",
       "</table>\n",
       "</div>"
      ],
      "text/plain": [
       "            rain         0\n",
       "0     heavy rain  0.109589\n",
       "1     light rain  0.112329\n",
       "2  moderate rain  0.208219\n",
       "3   no influence  0.569863"
      ]
     },
     "execution_count": 54,
     "metadata": {},
     "output_type": "execute_result"
    }
   ],
   "source": [
    "# The possibility of rain influence\n",
    "rain"
   ]
  },
  {
   "cell_type": "code",
   "execution_count": 55,
   "metadata": {},
   "outputs": [],
   "source": [
    "snow=(weather_extract.groupby('snow').size()/weather_extract.shape[0]).reset_index()"
   ]
  },
  {
   "cell_type": "code",
   "execution_count": 56,
   "metadata": {},
   "outputs": [
    {
     "data": {
      "text/html": [
       "<div>\n",
       "<style scoped>\n",
       "    .dataframe tbody tr th:only-of-type {\n",
       "        vertical-align: middle;\n",
       "    }\n",
       "\n",
       "    .dataframe tbody tr th {\n",
       "        vertical-align: top;\n",
       "    }\n",
       "\n",
       "    .dataframe thead th {\n",
       "        text-align: right;\n",
       "    }\n",
       "</style>\n",
       "<table border=\"1\" class=\"dataframe\">\n",
       "  <thead>\n",
       "    <tr style=\"text-align: right;\">\n",
       "      <th></th>\n",
       "      <th>snow</th>\n",
       "      <th>0</th>\n",
       "    </tr>\n",
       "  </thead>\n",
       "  <tbody>\n",
       "    <tr>\n",
       "      <th>0</th>\n",
       "      <td>heavy snow</td>\n",
       "      <td>0.010959</td>\n",
       "    </tr>\n",
       "    <tr>\n",
       "      <th>1</th>\n",
       "      <td>light snow</td>\n",
       "      <td>0.041096</td>\n",
       "    </tr>\n",
       "    <tr>\n",
       "      <th>2</th>\n",
       "      <td>moderate snow</td>\n",
       "      <td>0.019178</td>\n",
       "    </tr>\n",
       "    <tr>\n",
       "      <th>3</th>\n",
       "      <td>no influence</td>\n",
       "      <td>0.928767</td>\n",
       "    </tr>\n",
       "  </tbody>\n",
       "</table>\n",
       "</div>"
      ],
      "text/plain": [
       "            snow         0\n",
       "0     heavy snow  0.010959\n",
       "1     light snow  0.041096\n",
       "2  moderate snow  0.019178\n",
       "3   no influence  0.928767"
      ]
     },
     "execution_count": 56,
     "metadata": {},
     "output_type": "execute_result"
    }
   ],
   "source": [
    "# The possibility of snow influence\n",
    "snow"
   ]
  },
  {
   "cell_type": "code",
   "execution_count": 57,
   "metadata": {},
   "outputs": [],
   "source": [
    "temperature=(weather_extract.groupby('temperature').size()/weather_extract.shape[0]).reset_index()"
   ]
  },
  {
   "cell_type": "code",
   "execution_count": 58,
   "metadata": {},
   "outputs": [
    {
     "data": {
      "text/html": [
       "<div>\n",
       "<style scoped>\n",
       "    .dataframe tbody tr th:only-of-type {\n",
       "        vertical-align: middle;\n",
       "    }\n",
       "\n",
       "    .dataframe tbody tr th {\n",
       "        vertical-align: top;\n",
       "    }\n",
       "\n",
       "    .dataframe thead th {\n",
       "        text-align: right;\n",
       "    }\n",
       "</style>\n",
       "<table border=\"1\" class=\"dataframe\">\n",
       "  <thead>\n",
       "    <tr style=\"text-align: right;\">\n",
       "      <th></th>\n",
       "      <th>temperature</th>\n",
       "      <th>0</th>\n",
       "    </tr>\n",
       "  </thead>\n",
       "  <tbody>\n",
       "    <tr>\n",
       "      <th>0</th>\n",
       "      <td>no influence</td>\n",
       "      <td>0.972603</td>\n",
       "    </tr>\n",
       "    <tr>\n",
       "      <th>1</th>\n",
       "      <td>too cold</td>\n",
       "      <td>0.027397</td>\n",
       "    </tr>\n",
       "  </tbody>\n",
       "</table>\n",
       "</div>"
      ],
      "text/plain": [
       "    temperature         0\n",
       "0  no influence  0.972603\n",
       "1      too cold  0.027397"
      ]
     },
     "execution_count": 58,
     "metadata": {},
     "output_type": "execute_result"
    }
   ],
   "source": [
    "# The possibility of temperature influence\n",
    "temperature"
   ]
  },
  {
   "cell_type": "code",
   "execution_count": null,
   "metadata": {},
   "outputs": [],
   "source": []
  }
 ],
 "metadata": {
  "kernelspec": {
   "display_name": "Python 3",
   "language": "python",
   "name": "python3"
  },
  "language_info": {
   "codemirror_mode": {
    "name": "ipython",
    "version": 3
   },
   "file_extension": ".py",
   "mimetype": "text/x-python",
   "name": "python",
   "nbconvert_exporter": "python",
   "pygments_lexer": "ipython3",
   "version": "3.6.5"
  }
 },
 "nbformat": 4,
 "nbformat_minor": 2
}
